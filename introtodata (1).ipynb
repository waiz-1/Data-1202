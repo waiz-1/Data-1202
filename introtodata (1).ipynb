{
 "cells": [
  {
   "cell_type": "code",
   "execution_count": 11,
   "id": "916e9334-2ac4-479b-9f9a-8a439d760460",
   "metadata": {},
   "outputs": [],
   "source": [
    "#Load Libraries\n",
    "import pandas as pd\n",
    "import matplotlib.pyplot as plt\n",
    "%matplotlib inline"
   ]
  },
  {
   "cell_type": "code",
   "execution_count": null,
   "id": "83072b93-f3b0-46d3-ba69-000694b7713a",
   "metadata": {},
   "outputs": [],
   "source": []
  },
  {
   "cell_type": "code",
   "execution_count": 15,
   "id": "39a6b094-c0b9-4b06-9486-ac5d06ec05f6",
   "metadata": {},
   "outputs": [
    {
     "data": {
      "text/html": [
       "<div>\n",
       "<style scoped>\n",
       "    .dataframe tbody tr th:only-of-type {\n",
       "        vertical-align: middle;\n",
       "    }\n",
       "\n",
       "    .dataframe tbody tr th {\n",
       "        vertical-align: top;\n",
       "    }\n",
       "\n",
       "    .dataframe thead th {\n",
       "        text-align: right;\n",
       "    }\n",
       "</style>\n",
       "<table border=\"1\" class=\"dataframe\">\n",
       "  <thead>\n",
       "    <tr style=\"text-align: right;\">\n",
       "      <th></th>\n",
       "      <th>Brain</th>\n",
       "      <th>Height</th>\n",
       "      <th>Weight</th>\n",
       "      <th>PIQ</th>\n",
       "    </tr>\n",
       "  </thead>\n",
       "  <tbody>\n",
       "    <tr>\n",
       "      <th>0</th>\n",
       "      <td>81.69</td>\n",
       "      <td>64.5</td>\n",
       "      <td>118</td>\n",
       "      <td>124</td>\n",
       "    </tr>\n",
       "    <tr>\n",
       "      <th>1</th>\n",
       "      <td>103.84</td>\n",
       "      <td>73.3</td>\n",
       "      <td>143</td>\n",
       "      <td>150</td>\n",
       "    </tr>\n",
       "    <tr>\n",
       "      <th>2</th>\n",
       "      <td>96.54</td>\n",
       "      <td>68.8</td>\n",
       "      <td>172</td>\n",
       "      <td>128</td>\n",
       "    </tr>\n",
       "    <tr>\n",
       "      <th>3</th>\n",
       "      <td>95.15</td>\n",
       "      <td>65.0</td>\n",
       "      <td>147</td>\n",
       "      <td>134</td>\n",
       "    </tr>\n",
       "    <tr>\n",
       "      <th>4</th>\n",
       "      <td>92.88</td>\n",
       "      <td>69.0</td>\n",
       "      <td>146</td>\n",
       "      <td>110</td>\n",
       "    </tr>\n",
       "  </tbody>\n",
       "</table>\n",
       "</div>"
      ],
      "text/plain": [
       "    Brain  Height  Weight  PIQ\n",
       "0   81.69    64.5     118  124\n",
       "1  103.84    73.3     143  150\n",
       "2   96.54    68.8     172  128\n",
       "3   95.15    65.0     147  134\n",
       "4   92.88    69.0     146  110"
      ]
     },
     "execution_count": 15,
     "metadata": {},
     "output_type": "execute_result"
    }
   ],
   "source": [
    "#Load Data\n",
    "df = pd.read_csv('C:/Users/ASUS/OneDrive/Desktop/data 1200/IQAnalysis.csv')\n",
    "df.head()"
   ]
  },
  {
   "cell_type": "code",
   "execution_count": 17,
   "id": "36b16f77-3fc7-4a08-9ba9-ed542610fe42",
   "metadata": {
    "scrolled": true
   },
   "outputs": [
    {
     "data": {
      "text/html": [
       "<div>\n",
       "<style scoped>\n",
       "    .dataframe tbody tr th:only-of-type {\n",
       "        vertical-align: middle;\n",
       "    }\n",
       "\n",
       "    .dataframe tbody tr th {\n",
       "        vertical-align: top;\n",
       "    }\n",
       "\n",
       "    .dataframe thead th {\n",
       "        text-align: right;\n",
       "    }\n",
       "</style>\n",
       "<table border=\"1\" class=\"dataframe\">\n",
       "  <thead>\n",
       "    <tr style=\"text-align: right;\">\n",
       "      <th></th>\n",
       "      <th>Brain</th>\n",
       "      <th>Height</th>\n",
       "      <th>Weight</th>\n",
       "      <th>PIQ</th>\n",
       "    </tr>\n",
       "  </thead>\n",
       "  <tbody>\n",
       "    <tr>\n",
       "      <th>count</th>\n",
       "      <td>40.000000</td>\n",
       "      <td>40.000000</td>\n",
       "      <td>40.000000</td>\n",
       "      <td>40.000000</td>\n",
       "    </tr>\n",
       "    <tr>\n",
       "      <th>mean</th>\n",
       "      <td>90.477250</td>\n",
       "      <td>68.650000</td>\n",
       "      <td>151.375000</td>\n",
       "      <td>111.325000</td>\n",
       "    </tr>\n",
       "    <tr>\n",
       "      <th>std</th>\n",
       "      <td>7.288643</td>\n",
       "      <td>4.175631</td>\n",
       "      <td>23.035856</td>\n",
       "      <td>22.206938</td>\n",
       "    </tr>\n",
       "    <tr>\n",
       "      <th>min</th>\n",
       "      <td>79.060000</td>\n",
       "      <td>62.000000</td>\n",
       "      <td>106.000000</td>\n",
       "      <td>72.000000</td>\n",
       "    </tr>\n",
       "    <tr>\n",
       "      <th>25%</th>\n",
       "      <td>85.377500</td>\n",
       "      <td>66.000000</td>\n",
       "      <td>135.750000</td>\n",
       "      <td>89.750000</td>\n",
       "    </tr>\n",
       "    <tr>\n",
       "      <th>50%</th>\n",
       "      <td>90.540000</td>\n",
       "      <td>68.000000</td>\n",
       "      <td>147.000000</td>\n",
       "      <td>115.000000</td>\n",
       "    </tr>\n",
       "    <tr>\n",
       "      <th>75%</th>\n",
       "      <td>94.945000</td>\n",
       "      <td>70.500000</td>\n",
       "      <td>172.000000</td>\n",
       "      <td>128.000000</td>\n",
       "    </tr>\n",
       "    <tr>\n",
       "      <th>max</th>\n",
       "      <td>107.950000</td>\n",
       "      <td>78.000000</td>\n",
       "      <td>192.000000</td>\n",
       "      <td>150.000000</td>\n",
       "    </tr>\n",
       "  </tbody>\n",
       "</table>\n",
       "</div>"
      ],
      "text/plain": [
       "            Brain     Height      Weight         PIQ\n",
       "count   40.000000  40.000000   40.000000   40.000000\n",
       "mean    90.477250  68.650000  151.375000  111.325000\n",
       "std      7.288643   4.175631   23.035856   22.206938\n",
       "min     79.060000  62.000000  106.000000   72.000000\n",
       "25%     85.377500  66.000000  135.750000   89.750000\n",
       "50%     90.540000  68.000000  147.000000  115.000000\n",
       "75%     94.945000  70.500000  172.000000  128.000000\n",
       "max    107.950000  78.000000  192.000000  150.000000"
      ]
     },
     "execution_count": 17,
     "metadata": {},
     "output_type": "execute_result"
    }
   ],
   "source": [
    "#Key Statistics (Numerical Columns only)\n",
    "df.describe()"
   ]
  },
  {
   "cell_type": "code",
   "execution_count": 19,
   "id": "dc53b7b8-d559-4b48-818c-3d7958754f9f",
   "metadata": {},
   "outputs": [
    {
     "data": {
      "text/html": [
       "<div>\n",
       "<style scoped>\n",
       "    .dataframe tbody tr th:only-of-type {\n",
       "        vertical-align: middle;\n",
       "    }\n",
       "\n",
       "    .dataframe tbody tr th {\n",
       "        vertical-align: top;\n",
       "    }\n",
       "\n",
       "    .dataframe thead th {\n",
       "        text-align: right;\n",
       "    }\n",
       "</style>\n",
       "<table border=\"1\" class=\"dataframe\">\n",
       "  <thead>\n",
       "    <tr style=\"text-align: right;\">\n",
       "      <th></th>\n",
       "      <th>count</th>\n",
       "      <th>mean</th>\n",
       "      <th>std</th>\n",
       "      <th>min</th>\n",
       "      <th>25%</th>\n",
       "      <th>50%</th>\n",
       "      <th>75%</th>\n",
       "      <th>max</th>\n",
       "    </tr>\n",
       "  </thead>\n",
       "  <tbody>\n",
       "    <tr>\n",
       "      <th>Brain</th>\n",
       "      <td>40.0</td>\n",
       "      <td>90.47725</td>\n",
       "      <td>7.288643</td>\n",
       "      <td>79.06</td>\n",
       "      <td>85.3775</td>\n",
       "      <td>90.54</td>\n",
       "      <td>94.945</td>\n",
       "      <td>107.95</td>\n",
       "    </tr>\n",
       "    <tr>\n",
       "      <th>Height</th>\n",
       "      <td>40.0</td>\n",
       "      <td>68.65000</td>\n",
       "      <td>4.175631</td>\n",
       "      <td>62.00</td>\n",
       "      <td>66.0000</td>\n",
       "      <td>68.00</td>\n",
       "      <td>70.500</td>\n",
       "      <td>78.00</td>\n",
       "    </tr>\n",
       "    <tr>\n",
       "      <th>Weight</th>\n",
       "      <td>40.0</td>\n",
       "      <td>151.37500</td>\n",
       "      <td>23.035856</td>\n",
       "      <td>106.00</td>\n",
       "      <td>135.7500</td>\n",
       "      <td>147.00</td>\n",
       "      <td>172.000</td>\n",
       "      <td>192.00</td>\n",
       "    </tr>\n",
       "    <tr>\n",
       "      <th>PIQ</th>\n",
       "      <td>40.0</td>\n",
       "      <td>111.32500</td>\n",
       "      <td>22.206938</td>\n",
       "      <td>72.00</td>\n",
       "      <td>89.7500</td>\n",
       "      <td>115.00</td>\n",
       "      <td>128.000</td>\n",
       "      <td>150.00</td>\n",
       "    </tr>\n",
       "  </tbody>\n",
       "</table>\n",
       "</div>"
      ],
      "text/plain": [
       "        count       mean        std     min       25%     50%      75%     max\n",
       "Brain    40.0   90.47725   7.288643   79.06   85.3775   90.54   94.945  107.95\n",
       "Height   40.0   68.65000   4.175631   62.00   66.0000   68.00   70.500   78.00\n",
       "Weight   40.0  151.37500  23.035856  106.00  135.7500  147.00  172.000  192.00\n",
       "PIQ      40.0  111.32500  22.206938   72.00   89.7500  115.00  128.000  150.00"
      ]
     },
     "execution_count": 19,
     "metadata": {},
     "output_type": "execute_result"
    }
   ],
   "source": [
    "#Key Statistics - Transposed (Numerical Columns only)\n",
    "df.describe().T"
   ]
  },
  {
   "cell_type": "code",
   "execution_count": 21,
   "id": "4f9bf0ce-e5a4-4d34-84c5-019c013db0ff",
   "metadata": {},
   "outputs": [],
   "source": [
    "#Measure of Spread and Central Tendancy\n",
    "\n",
    "def std_dev_plot(Var):\n",
    "\n",
    "    #Spread\n",
    "    data = df[Var]\n",
    "    mean = df[Var].mean()\n",
    "    std = df[Var].std()\n",
    "    min_value = min(data)\n",
    "    max_value = max(data)\n",
    "\n",
    "    plt.hlines(y=mean - std, xmin=0, xmax=len(data), colors='yellow')\n",
    "    plt.hlines(y=mean + std, xmin=0, xmax=len(data), colors='yellow')\n",
    "    plt.hlines(y=mean - 2*std, xmin=0, xmax=len(data), colors='black')\n",
    "    plt.hlines(y=mean + 2*std, xmin=0, xmax=len(data), colors='black')\n",
    "    plt.hlines(y=mean - 3*std, xmin=0, xmax=len(data), colors='red')\n",
    "    plt.hlines(y=mean + 3*std, xmin=0, xmax=len(data), colors='red')\n",
    "    \n",
    "    print('\\nMeasure of Spread - STD')\n",
    "    plt.title(Var)\n",
    "    plt.scatter(x=df.index, y=df[Var])\n",
    "    plt.hlines(y=mean, xmin=0, xmax=len(data))\n",
    "    plt.show()\n",
    "    \n",
    "    #Central Tendacy\n",
    "    print('Central Tendacy Statistics')\n",
    "    print('\\nMean: {:0.2f}'.format(df[Var].mean()))\n",
    "    print('Median: {:0.2f}'.format(df[Var].median())) \n",
    "    print('Mode: {}'.format(df[Var].mode()))"
   ]
  },
  {
   "cell_type": "code",
   "execution_count": null,
   "id": "202ee582-977c-481e-bf9d-20927257ec44",
   "metadata": {},
   "outputs": [],
   "source": []
  },
  {
   "cell_type": "code",
   "execution_count": 23,
   "id": "6d066423-53fd-4554-983d-a54ffe060ac5",
   "metadata": {},
   "outputs": [
    {
     "name": "stdout",
     "output_type": "stream",
     "text": [
      "\n",
      "Measure of Spread - STD\n"
     ]
    },
    {
     "data": {
      "image/png": "[encoded data removed]",
      "text/plain": [
       "<Figure size 640x480 with 1 Axes>"
      ]
     },
     "metadata": {},
     "output_type": "display_data"
    },
    {
     "name": "stdout",
     "output_type": "stream",
     "text": [
      "Central Tendacy Statistics\n",
      "\n",
      "Mean: 90.48\n",
      "Median: 90.54\n",
      "Mode: 0    79.86\n",
      "1    93.55\n",
      "Name: Brain, dtype: float64\n",
      "\n",
      "Measure of Spread - STD\n"
     ]
    },
    {
     "data": {
      "image/png": "[encoded data removed]",
      "text/plain": [
       "<Figure size 640x480 with 1 Axes>"
      ]
     },
     "metadata": {},
     "output_type": "display_data"
    },
    {
     "name": "stdout",
     "output_type": "stream",
     "text": [
      "Central Tendacy Statistics\n",
      "\n",
      "Mean: 68.65\n",
      "Median: 68.00\n",
      "Mode: 0    64.5\n",
      "1    68.0\n",
      "Name: Height, dtype: float64\n",
      "\n",
      "Measure of Spread - STD\n"
     ]
    },
    {
     "data": {
      "image/png": "[encoded data removed]",
      "text/plain": [
       "<Figure size 640x480 with 1 Axes>"
      ]
     },
     "metadata": {},
     "output_type": "display_data"
    },
    {
     "name": "stdout",
     "output_type": "stream",
     "text": [
      "Central Tendacy Statistics\n",
      "\n",
      "Mean: 151.38\n",
      "Median: 147.00\n",
      "Mode: 0    118\n",
      "1    127\n",
      "2    143\n",
      "3    146\n",
      "4    147\n",
      "5    155\n",
      "6    172\n",
      "Name: Weight, dtype: int64\n"
     ]
    }
   ],
   "source": [
    "# Output\n",
    "\n",
    "std_dev_plot('Brain')\n",
    "std_dev_plot('Height')\n",
    "std_dev_plot('Weight')\n"
   ]
  },
  {
   "cell_type": "code",
   "execution_count": null,
   "id": "4e5d287a-ecd0-457a-b3a7-bc92b51b2591",
   "metadata": {},
   "outputs": [],
   "source": []
  }
 ],
 "metadata": {
  "kernelspec": {
   "display_name": "Python [conda env:base] *",
   "language": "python",
   "name": "conda-base-py"
  },
  "language_info": {
   "codemirror_mode": {
    "name": "ipython",
    "version": 3
   },
   "file_extension": ".py",
   "mimetype": "text/x-python",
   "name": "python",
   "nbconvert_exporter": "python",
   "pygments_lexer": "ipython3",
   "version": "3.12.7"
  }
 },
 "nbformat": 4,
 "nbformat_minor": 5
}
